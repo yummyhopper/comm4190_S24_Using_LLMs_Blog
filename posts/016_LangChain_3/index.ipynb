{
 "cells": [
  {
   "cell_type": "raw",
   "id": "734bec6e-2b92-4281-be6c-f06c1f661832",
   "metadata": {},
   "source": [
    "---\n",
    "title: \"Automated Email Marketing Part #3: Getting LLMs to Sell\"\n",
    "description: \"\"\n",
    "author: \"Max Orenstein\"\n",
    "date: \"4/19/2024\"\n",
    "categories:\n",
    "  - LangChain\n",
    "  - Marketing\n",
    "  - Klaviyo\n",
    "---"
   ]
  },
  {
   "cell_type": "markdown",
   "id": "a77e4b06-ae05-4eba-a676-938c912b04a7",
   "metadata": {},
   "source": [
    "# Automated Email Marketing Part #3: Getting LLMs to Sell\n",
    "\n"
   ]
  },
  {
   "cell_type": "code",
   "execution_count": null,
   "id": "8d70ce5a-fc19-48ff-b4ac-540f7b16f4c5",
   "metadata": {},
   "outputs": [],
   "source": [
    "- Incorporate \n",
    "- Try different models\n",
    "- Send off emails on its own"
   ]
  },
  {
   "cell_type": "markdown",
   "id": "4efeb2ad-b4d2-4eb6-ac13-939c92cc9222",
   "metadata": {},
   "source": [
    "### What we did last time: Integrating Klaviyo with LangChain"
   ]
  },
  {
   "cell_type": "code",
   "execution_count": 6,
   "id": "f0f98d52-3d62-40de-8d2d-ea9c5efbd555",
   "metadata": {},
   "outputs": [],
   "source": [
    "import os\n",
    "from dotenv import load_dotenv\n",
    "from klaviyo_api import KlaviyoAPI\n",
    "\n",
    "from langchain.prompts import PromptTemplate\n",
    "from langchain.chat_models import ChatOpenAI\n",
    "from langchain.chains import LLMChain"
   ]
  },
  {
   "cell_type": "code",
   "execution_count": 2,
   "id": "026de839-ddff-4853-aa3f-76bd469bfd01",
   "metadata": {},
   "outputs": [],
   "source": [
    "_ = load_dotenv()"
   ]
  },
  {
   "cell_type": "code",
   "execution_count": 3,
   "id": "5abe97e3-948f-4311-958e-e5998ebae327",
   "metadata": {},
   "outputs": [],
   "source": [
    "# Extract Klaviyo (private) API key from .env file\n",
    "klaviyo_key=os.getenv('KLAVIYO_API_KEY')"
   ]
  },
  {
   "cell_type": "code",
   "execution_count": 4,
   "id": "e3a5ade6-c9f8-42b1-b70f-28a6c1587dcb",
   "metadata": {},
   "outputs": [
    {
     "ename": "AttributeError",
     "evalue": "'KlaviyoAPI' object has no attribute 'configuration'",
     "output_type": "error",
     "traceback": [
      "\u001b[0;31m---------------------------------------------------------------------------\u001b[0m",
      "\u001b[0;31mAttributeError\u001b[0m                            Traceback (most recent call last)",
      "Cell \u001b[0;32mIn[4], line 3\u001b[0m\n\u001b[1;32m      1\u001b[0m \u001b[38;5;66;03m# Instantiate the Klaviyo Python API with the API key\u001b[39;00m\n\u001b[0;32m----> 3\u001b[0m klaviyo \u001b[38;5;241m=\u001b[39m \u001b[43mKlaviyoAPI\u001b[49m\u001b[43m(\u001b[49m\u001b[43mklaviyo_key\u001b[49m\u001b[43m,\u001b[49m\u001b[43m \u001b[49m\u001b[43mmax_delay\u001b[49m\u001b[38;5;241;43m=\u001b[39;49m\u001b[38;5;241;43m60\u001b[39;49m\u001b[43m,\u001b[49m\u001b[43m \u001b[49m\u001b[43mmax_retries\u001b[49m\u001b[38;5;241;43m=\u001b[39;49m\u001b[38;5;241;43m3\u001b[39;49m\u001b[43m,\u001b[49m\u001b[43m \u001b[49m\u001b[43mtest_host\u001b[49m\u001b[38;5;241;43m=\u001b[39;49m\u001b[38;5;28;43;01mNone\u001b[39;49;00m\u001b[43m)\u001b[49m\n",
      "File \u001b[0;32m<string>:8\u001b[0m, in \u001b[0;36m__init__\u001b[0;34m(self, api_key, max_delay, max_retries, test_host, access_token)\u001b[0m\n",
      "File \u001b[0;32m/usr/local/anaconda3/share/jupyter/venv/py311_4130_v2/lib/python3.11/site-packages/klaviyo_api/wrapper.py:74\u001b[0m, in \u001b[0;36mKlaviyoAPI.__post_init__\u001b[0;34m(self)\u001b[0m\n\u001b[1;32m     71\u001b[0m \u001b[38;5;28;01mif\u001b[39;00m \u001b[38;5;28mself\u001b[39m\u001b[38;5;241m.\u001b[39mtest_host:\n\u001b[1;32m     72\u001b[0m     \u001b[38;5;28mself\u001b[39m\u001b[38;5;241m.\u001b[39mconfiguration\u001b[38;5;241m.\u001b[39mhost \u001b[38;5;241m=\u001b[39m \u001b[38;5;28mself\u001b[39m\u001b[38;5;241m.\u001b[39mtest_host\n\u001b[0;32m---> 74\u001b[0m \u001b[38;5;28mself\u001b[39m\u001b[38;5;241m.\u001b[39mapi_client \u001b[38;5;241m=\u001b[39m openapi_client\u001b[38;5;241m.\u001b[39mApiClient(\u001b[38;5;28;43mself\u001b[39;49m\u001b[38;5;241;43m.\u001b[39;49m\u001b[43mconfiguration\u001b[49m)\n\u001b[1;32m     76\u001b[0m \u001b[38;5;28mself\u001b[39m\u001b[38;5;241m.\u001b[39mapi_client\u001b[38;5;241m.\u001b[39mdefault_headers[\u001b[38;5;124m'\u001b[39m\u001b[38;5;124mrevision\u001b[39m\u001b[38;5;124m'\u001b[39m] \u001b[38;5;241m=\u001b[39m \u001b[38;5;28mself\u001b[39m\u001b[38;5;241m.\u001b[39m_REVISION\n\u001b[1;32m     78\u001b[0m \u001b[38;5;28;01mif\u001b[39;00m \u001b[38;5;28mself\u001b[39m\u001b[38;5;241m.\u001b[39mmax_delay\u001b[38;5;241m<\u001b[39m\u001b[38;5;241m=\u001b[39m \u001b[38;5;241m0\u001b[39m:\n",
      "\u001b[0;31mAttributeError\u001b[0m: 'KlaviyoAPI' object has no attribute 'configuration'"
     ]
    }
   ],
   "source": [
    "# Instantiate the Klaviyo Python API with the API key\n",
    "\n",
    "klaviyo = KlaviyoAPI(klaviyo_key, max_delay=60, max_retries=3, test_host=None)"
   ]
  },
  {
   "cell_type": "code",
   "execution_count": null,
   "id": "06f59fc8-68a9-46cc-b1a1-37662a9cd3a4",
   "metadata": {},
   "outputs": [],
   "source": [
    "# Extract a sample of Metrics from the Klaviyo API\n",
    "\n",
    "klaviyo.Metrics.get_metrics()"
   ]
  },
  {
   "cell_type": "code",
   "execution_count": null,
   "id": "3179e59b-10f7-4a0e-b643-dac05a59efa7",
   "metadata": {},
   "outputs": [],
   "source": [
    "# Store a sample customer ID from Klaviyo in an object\n",
    "\n",
    "john_doe=\"01HVFKKSPHKNC5PV0VNN14TSJ4\""
   ]
  },
  {
   "cell_type": "code",
   "execution_count": null,
   "id": "fd2aedd7-4119-43f3-8755-1dd2ace9ef1b",
   "metadata": {},
   "outputs": [],
   "source": [
    "# From here we can update a profile with custom properties\n",
    "\n",
    "payload={ \"data\": {\n",
    "        \"type\": \"profile\",\n",
    "        \"id\": john_doe,\n",
    "        \"attributes\": {\n",
    "            'properties':{\n",
    "                'clv':500,\n",
    "                'churn_risk':'high',\n",
    "                'upsales_propensity': '80%',\n",
    "                'recommended_incentive': 'gift'\n",
    "            }\n",
    "                    }\n",
    "            }\n",
    "     }\n",
    "\n",
    "klaviyo.Profiles.update_profile(john_doe, payload)"
   ]
  },
  {
   "cell_type": "code",
   "execution_count": null,
   "id": "9cf35884-3cba-481d-84c4-e87c736b9ba3",
   "metadata": {},
   "outputs": [],
   "source": [
    "# Extract events from Klaviyo for a given Klaviyo ID\n",
    "\n",
    "events=klaviyo.Events.get_events(\n",
    "    fields_event=['event_properties'],\n",
    "    filter=f\"equals(profile_id,'{john_doe}')\",\n",
    "    sort='-datetime'\n",
    "    )"
   ]
  },
  {
   "cell_type": "code",
   "execution_count": null,
   "id": "79398f0f-14ac-483c-927e-31bf351a78b5",
   "metadata": {},
   "outputs": [],
   "source": [
    "# Extract profile data and events for a Klaviyo ID as a string we can feed to LangChain\n",
    "\n",
    "def customer_data(custid):\n",
    "    profile=klaviyo.Profiles.get_profile(custid)\n",
    "    profile_string=str(profile['data']['attributes'])\n",
    "    events=klaviyo.Events.get_events(fields_event=['event_properties'],\n",
    "        filter=f\"and(equals(profile_id,'{custid}'),equals(metric_id,'YtR57h'))\",\n",
    "        sort='-datetime')\n",
    "    purchases='Purchases: '\n",
    "    for e in events['data']:\n",
    "        purchases=purchases+e['attributes']['event_properties']['Name']+','\n",
    "    return profile_string+', '+purchases"
   ]
  },
  {
   "cell_type": "code",
   "execution_count": null,
   "id": "b784f403-bc26-4cad-8a75-42c72af5de87",
   "metadata": {},
   "outputs": [],
   "source": [
    "data=customer_data(john_doe)\n",
    "data"
   ]
  },
  {
   "cell_type": "code",
   "execution_count": 5,
   "id": "3c5c1270-c1a1-4eac-8613-e10764d6a973",
   "metadata": {},
   "outputs": [],
   "source": []
  },
  {
   "cell_type": "code",
   "execution_count": null,
   "id": "4bdb4189-a24e-4f91-851c-c9ab39c23a02",
   "metadata": {},
   "outputs": [],
   "source": [
    "# Simple LLM chain that allows us to produce personalized text based on data from Klaviyo\n",
    "\n",
    "prompt_template = \"\"\"\n",
    "Write a short 2 line introduction to an email with a hook from Max's Store to a customer with these {properties}\n",
    "Don't mention the properties or the property values but try\n",
    "to use the properties \"upsales_propensity\" and \"recommended_incentive\" in the formulation\n",
    "\"\"\"\n",
    "\n",
    "llm = ChatOpenAI(model_name=\"gpt-4\", temperature=0.2)\n",
    "llm_chain = LLMChain(\n",
    "    llm=llm,\n",
    "    prompt=PromptTemplate.from_template(prompt_template)\n",
    ")\n",
    "intro=llm_chain(data)\n",
    "\n",
    "print(intro['text'])"
   ]
  },
  {
   "cell_type": "markdown",
   "id": "bec0333f-ba98-4e0f-b9b8-129aa142ab93",
   "metadata": {},
   "source": [
    "### This time: Prompt Engineering in LangChain"
   ]
  },
  {
   "cell_type": "code",
   "execution_count": null,
   "id": "7fb4ec66-78c9-40ba-af58-d9d4c0d7c34a",
   "metadata": {},
   "outputs": [],
   "source": []
  }
 ],
 "metadata": {
  "citation-manager": {
   "items": {}
  },
  "kernelspec": {
   "display_name": "Python 3.11 (Max - Klaviyo)",
   "language": "python",
   "name": "comm4190_max"
  },
  "language_info": {
   "codemirror_mode": {
    "name": "ipython",
    "version": 3
   },
   "file_extension": ".py",
   "mimetype": "text/x-python",
   "name": "python",
   "nbconvert_exporter": "python",
   "pygments_lexer": "ipython3",
   "version": "3.11.7"
  }
 },
 "nbformat": 4,
 "nbformat_minor": 5
}
