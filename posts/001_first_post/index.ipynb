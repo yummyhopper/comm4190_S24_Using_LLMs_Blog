{
 "cells": [
  {
   "cell_type": "raw",
   "id": "acdb16ce-a31d-4e51-8ea6-544418a9bb03",
   "metadata": {},
   "source": [
    "---\n",
    "title: \"A test post 3\"\n",
    "description: \"An example post from a Jupyter notebook\"\n",
    "author: \"An LLM User\"\n",
    "date: \"2/7/2024\"\n",
    "draft: true\n",
    "\n",
    "categories:\n",
    "  - Max's Dog\n",
    "  - snickers\n",
    "---"
   ]
  },
  {
   "cell_type": "markdown",
   "id": "77f6c579-b24c-40f3-9e12-c268202aa7d3",
   "metadata": {},
   "source": [
    "## Max's Third Test Post"
   ]
  },
  {
   "cell_type": "code",
   "execution_count": null,
   "id": "98d540b1-c3fe-4251-8208-edc223678eff",
   "metadata": {},
   "outputs": [],
   "source": []
  }
 ],
 "metadata": {
  "citation-manager": {
   "items": {}
  },
  "kernelspec": {
   "display_name": "Python 3.11 (COMM4190)",
   "language": "python",
   "name": "comm4190"
  },
  "language_info": {
   "codemirror_mode": {
    "name": "ipython",
    "version": 3
   },
   "file_extension": ".py",
   "mimetype": "text/x-python",
   "name": "python",
   "nbconvert_exporter": "python",
   "pygments_lexer": "ipython3",
   "version": "3.11.7"
  }
 },
 "nbformat": 4,
 "nbformat_minor": 5
}
