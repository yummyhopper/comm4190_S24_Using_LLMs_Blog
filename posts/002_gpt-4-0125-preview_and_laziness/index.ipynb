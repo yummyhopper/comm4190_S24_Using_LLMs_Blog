{
 "cells": [
  {
   "cell_type": "raw",
   "id": "92719b5a-329b-43ea-818d-a77e3eb0017f",
   "metadata": {},
   "source": [
    "---\n",
    "title: \"ChatGPT Got Less Lazy? Open AI's Newest Model: gpt-4-0125-preview\"\n",
    "description: \"An example post from a Jupyter notebook\"\n",
    "author: \"An LLM User\"\n",
    "date: \"2/2/2024\"\n",
    "categories:\n",
    "  - LLMs\n",
    "  - ChatGPT\n",
    "  - Laziness\n",
    "---"
   ]
  },
  {
   "cell_type": "markdown",
   "id": "bd7dfc40-8d9d-419c-a090-e2ef992b3d24",
   "metadata": {},
   "source": [
    "# ChatGPT Got Less Lazy? Open AI's Newest Model: `gpt-4-0125-preview`"
   ]
  },
  {
   "cell_type": "markdown",
   "id": "dc3c1ce8-c905-43fe-89e6-1652e0a11de1",
   "metadata": {},
   "source": [
    "* On January 25, 2024 OpenAI released it's latest and most advanced GPT model to date intended to compete with Google's Gemini.\n",
    "\n",
    ">\n",
    "> \"This model completes tasks like code generation more thoroughly than the previous preview model and is intended to reduce cases of “laziness” where the model doesn’t complete a task. The new model also includes the fix for the bug impacting non-English UTF-8 generations.\"\n",
    ">"
   ]
  },
  {
   "cell_type": "markdown",
   "id": "be113fd7-0589-4b98-88fc-fd094b02231f",
   "metadata": {},
   "source": [
    "### How can AI be lazy?"
   ]
  },
  {
   "cell_type": "markdown",
   "id": "8e6c9bae-227b-4b29-a7bd-700babc165b4",
   "metadata": {},
   "source": [
    "When we think next gen AI images of eating pizza rolls and binging Game of Thrones aren't what comes to mind... but why not? In a december tweet OpenAI acknowledged the issue:\n",
    "\n",
    ">\n",
    "> \"We've heard all your feedback about GPT4 getting lazier! we haven't updated the model since Nov 11th, and this certainly isn't intentional. model behavior can be unpredictable, and we're looking into fixing it.\"\n",
    ">\n",
    "\n",
    "But anyone who's used ChatGPT has inevitably run into this issue. It's that keyboard banging moment when you ask it to sort a CSV or write Python code and it might returns a long explanation of how that could be done and recommend the user try to do it themselves. Annoying!"
   ]
  },
  {
   "cell_type": "markdown",
   "id": "faf1d780-efa8-4260-bbc7-2c270aa7b649",
   "metadata": {},
   "source": [
    "### Was GPT 3.5 better at this?"
   ]
  },
  {
   "cell_type": "markdown",
   "id": "6c39dfe7-d3b6-4297-a645-f13b553b2762",
   "metadata": {},
   "source": [
    "Yes! When I asked each model: \"Create a spreadheet for my taxes\" This is what they returned:"
   ]
  },
  {
   "cell_type": "markdown",
   "id": "df32df7a-985c-4d15-adc4-eec2a897cc84",
   "metadata": {},
   "source": [
    "::: {layout-ncol=2}\n",
    "\n",
    "<img src=\"gpt-3.5_example.jpg\" style=\"vertical-align: top; width: 40%\" />\n",
    "<img src=\"gpt-4_example.jpg\" style=\"vertical-align: top; width: 40%\" />\n",
    "\n",
    ":::\n"
   ]
  },
  {
   "cell_type": "markdown",
   "id": "c8679afe-a994-41f3-aefe-b7831b751411",
   "metadata": {},
   "source": [
    "So is the newest edition really better? We'll have to wait and see as it's currently only available throught API."
   ]
  },
  {
   "cell_type": "markdown",
   "id": "a3e53aa7-1377-41e7-86af-a0af70ca6f51",
   "metadata": {},
   "source": [
    "### So what can we conclude?"
   ]
  },
  {
   "cell_type": "markdown",
   "id": "5bbe68d3-ff0a-4a0d-9a3b-4b730569207c",
   "metadata": {},
   "source": [
    "The problem of AI laziness is really a problem of human laziness, but one that developers have to account for. With a little more effortful prompting it would not be difficult for any of the models to deliver an optimal result, but that's not the AI dream for many users. We are cognitive misers with brains designed to search for solutions that minimize effort while maximizing results, but we don't want our AI systems to behave the same way. Rather OpenAI's common user wants to give the least possible input and receive a maximally polished result. This means creating action oriented models designed to interpret simple prompts and infer several layers of extrapolation and nuance to deliver the desired result. Whether frontier AI companies choose to cater to the laziness of the mass rather than creating more nuanced and specialized systems that produce higher quality responses to higher quality prompts can be debated. What's became clear from this dilemma is that there's more that goes into a general purpose model than how well it scores on an SAT, the sheer size of its context window, or its fancy new name. To quote Janet Jackson \"What have you done for me lately?\" The most commercially viable AI systems will tend towards prioritizing user experience, whether that comes at the expense of accuracy or another measure remains to be seen."
   ]
  }
 ],
 "metadata": {
  "citation-manager": {
   "items": {}
  },
  "kernelspec": {
   "display_name": "Python 3.11 (COMM4190)",
   "language": "python",
   "name": "comm4190"
  },
  "language_info": {
   "codemirror_mode": {
    "name": "ipython",
    "version": 3
   },
   "file_extension": ".py",
   "mimetype": "text/x-python",
   "name": "python",
   "nbconvert_exporter": "python",
   "pygments_lexer": "ipython3",
   "version": "3.11.7"
  }
 },
 "nbformat": 4,
 "nbformat_minor": 5
}
