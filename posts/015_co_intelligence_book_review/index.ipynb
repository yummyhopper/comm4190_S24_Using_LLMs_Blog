{
 "cells": [
  {
   "cell_type": "raw",
   "id": "f23a0bdb-94d1-4a6c-8bb0-64c9127d12aa",
   "metadata": {},
   "source": [
    "---\n",
    "title: \"Book Review: Ethan Mollick's Co-Intelligence\"\n",
    "description: \"Cyborgs and Centaurs\"\n",
    "author: \"Max Orenstein\"\n",
    "date: \"4/18/2024\"\n",
    "categories:\n",
    "  - AI\n",
    "  - Alignment\n",
    "  - Book Review\n",
    "---"
   ]
  },
  {
   "cell_type": "markdown",
   "id": "bb9c7fec-db98-413b-ae18-c88ad1266c5f",
   "metadata": {},
   "source": [
    "Cyborgs and Centaurs: Co-intelligence Book Review"
   ]
  }
 ],
 "metadata": {
  "citation-manager": {
   "items": {}
  },
  "kernelspec": {
   "display_name": "Python 3.11 (COMM4190)",
   "language": "python",
   "name": "comm4190"
  },
  "language_info": {
   "codemirror_mode": {
    "name": "ipython",
    "version": 3
   },
   "file_extension": ".py",
   "mimetype": "text/x-python",
   "name": "python",
   "nbconvert_exporter": "python",
   "pygments_lexer": "ipython3",
   "version": "3.11.7"
  }
 },
 "nbformat": 4,
 "nbformat_minor": 5
}
