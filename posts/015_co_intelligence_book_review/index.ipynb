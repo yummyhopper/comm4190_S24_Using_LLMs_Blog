{
 "cells": [
  {
   "cell_type": "raw",
   "id": "f23a0bdb-94d1-4a6c-8bb0-64c9127d12aa",
   "metadata": {},
   "source": [
    "---\n",
    "title: \"A Treatise on the Ethics of NextGenRizz\"\n",
    "description: \"This post will chronicle my early experiments with Rizz AI and also consider the ethics of this romantic Turing test. \"\n",
    "author: \"Max Orenstein\"\n",
    "date: \"4/17/2024\"\n",
    "categories:\n",
    "  - LLMs\n",
    "  - Dating\n",
    "  - Rizz\n",
    "---"
   ]
  },
  {
   "cell_type": "markdown",
   "id": "bb9c7fec-db98-413b-ae18-c88ad1266c5f",
   "metadata": {},
   "source": [
    "Cyborgs and Centaurs: Co-intelligence Book Review"
   ]
  }
 ],
 "metadata": {
  "citation-manager": {
   "items": {}
  },
  "kernelspec": {
   "display_name": "Python 3.11 (COMM4190)",
   "language": "python",
   "name": "comm4190"
  },
  "language_info": {
   "codemirror_mode": {
    "name": "ipython",
    "version": 3
   },
   "file_extension": ".py",
   "mimetype": "text/x-python",
   "name": "python",
   "nbconvert_exporter": "python",
   "pygments_lexer": "ipython3",
   "version": "3.11.7"
  }
 },
 "nbformat": 4,
 "nbformat_minor": 5
}
