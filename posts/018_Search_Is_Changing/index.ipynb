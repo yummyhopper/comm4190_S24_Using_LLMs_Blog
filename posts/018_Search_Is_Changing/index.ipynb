{
 "cells": [
  {
   "cell_type": "raw",
   "metadata": {
    "vscode": {
     "languageId": "raw"
    }
   },
   "source": [
    "---\n",
    "title: \"Search Is Changing And It Will Effect What People Click On\"\n",
    "description: \"This paradigm shift signals a major change for those in the business of providing answers, particularly SEO marketers. So, what does this mean for the evolving landscape of SEO, will you lose valuable clicks,and what can you do about it?\"\n",
    "author: \"Max Orenstein\"\n",
    "date: \"5/23/2024\"\n",
    "categories:\n",
    "  - Search\n",
    "  - AI\n",
    "  - Google\n",
    "---"
   ]
  },
  {
   "cell_type": "markdown",
   "metadata": {},
   "source": [
    "### Search Is Changing And It Will Effect What People Click On\n",
    "\n"
   ]
  },
  {
   "cell_type": "markdown",
   "metadata": {},
   "source": [
    "AI and Search are both question-answering machines. Until recently Google had the best question-answering machine, gathering a dominant 90% market share amongst search engines. However AI has challenged this stranglehold by answering questions in new ways. AI can generate more personalized results, reason in multiple steps, and learn through many different modalities. Plain old Google is no longer the best question-answering machine and the company has just made a major move to address it's shiny new competition. This paradigm shift signals a major change for those in the business of providing answers, particularly SEO marketers. So, what does this mean for the evolving landscape of SEO, will you lose valuable clicks,and what can you do about it?\n",
    "\n",
    ">\n",
    "> “When search grows up, it will look like Star Trek: you talk into the air (“Computer! What’s the situation down on the planet?”) and the computer processes your question, figures out its context, figures out what response you’re looking for, searches a giant database in who-knows-how-many languages, translates/analyses/summarises all the results, and presents them back to you in a pleasant voice. I think this technology is about, oh, 300 years off.” - *Craig Silverstein, Google CTO (2003)*\n",
    ">\n"
   ]
  },
  {
   "cell_type": "markdown",
   "metadata": {},
   "source": [
    "### The StarTrek Computer\n",
    "\n",
    "![](Theultimatecomputerhd0191.webp)\n",
    "\n",
    "During last weeks annual developer conference Google made several bombshell AI announcements including major changes to its flagship product Google Search. Google is expanding search capabilities using it's own generative AI model Google Gemini. The new model, which integrates real-time data and advanced ranking systems, is designed to make search more accurate and efficient. Here are the new features:\n",
    "\n",
    "- **AI overviews**: links included\n",
    "- **Multi-step Reasoning**: Google introduces multi-step reasoning to break down complex queries into sub-questions, providing detailed and organized overviews.\n",
    "- **Advanced Planning Capabilities**: Google’s AI can assist with planning tasks like meal plans and trips, providing detailed and customizable plans.\n",
    "- **AI Organized Pages**: For brainstorming and inspiration, Google provides AI-organized search result pages with various clusters of information.\n",
    "- **Video-based Search Queries**: Google introduces the ability to ask search questions using videos, leveraging advanced speech and visual recognition technologies.\n"
   ]
  },
  {
   "cell_type": "markdown",
   "metadata": {},
   "source": [
    "Perplexing a Monopoly\n",
    "\n",
    "- Perplexity overview\n",
    "- Bing Search\n",
    "- ChatGPT Search Rumors"
   ]
  },
  {
   "cell_type": "markdown",
   "metadata": {},
   "source": [
    "This won't increase clicks. Stop gaslighting us.\n",
    "\n",
    ">\n",
    "> \"With AI Overviews, people are visiting a greater diversity of websites for help with more complex questions. And we see that the links included in AI Overviews get more clicks than if the page had appeared as a traditional web listing for that query. As we expand this experience, we’ll continue to focus on sending valuable traffic to publishers and creators. As always, ads will continue to appear in dedicated slots throughout the page, with clear labeling to distinguish between organic and sponsored results.\" - *Liz Reid, VP, Head of Google Search*\n",
    ">"
   ]
  },
  {
   "cell_type": "markdown",
   "metadata": {},
   "source": [
    "You Can't Fight Them."
   ]
  },
  {
   "cell_type": "markdown",
   "metadata": {},
   "source": [
    "How will this impact SEO?"
   ]
  },
  {
   "cell_type": "markdown",
   "metadata": {},
   "source": [
    "- AI overviews of your question\n",
    "- Multi-step reasoning (yoga studio)\n",
    "- Planning in search"
   ]
  }
 ],
 "metadata": {
  "kernelspec": {
   "display_name": "base",
   "language": "python",
   "name": "python3"
  },
  "language_info": {
   "codemirror_mode": {
    "name": "ipython",
    "version": 3
   },
   "file_extension": ".py",
   "mimetype": "text/x-python",
   "name": "python",
   "nbconvert_exporter": "python",
   "pygments_lexer": "ipython3",
   "version": "3.11.4"
  }
 },
 "nbformat": 4,
 "nbformat_minor": 2
}
