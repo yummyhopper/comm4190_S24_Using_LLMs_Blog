{
 "cells": [
  {
   "cell_type": "raw",
   "metadata": {
    "vscode": {
     "languageId": "raw"
    }
   },
   "source": [
    "---\n",
    "title: \"Credit Where Credit Is Due: A Brief Guide to Attribution in Affiliate Marketing\"\n",
    "description: \"A Blog Post I Wrote For DMi Partners\"\n",
    "author: \"Max Orenstein\"\n",
    "date: \"7/30/2024\"\n",
    "categories:\n",
    "  - Marketing\n",
    "  - Attribution\n",
    "  - Affiliate\n",
    "---"
   ]
  },
  {
   "cell_type": "markdown",
   "metadata": {},
   "source": [
    "# Credit Where Credit Is Due: A Brief Guide to Attribution in Affiliate Marketing\n",
    "\n",
    "![](DMi-Partners-Logo.webp)\n",
    "\n",
    "Attribution can seem like the boogeyman of marketing at times. According to a 2023 Demand Gen Report refining marketing measurement and reporting is a growing priority for 84% of marketers, meanwhile 63% say they struggle to track activity between funnel stages. Neither of these statistics should come as no surprise.\n",
    "\n",
    "In this big-data era, accurate measurement is a crucial element of any successful affiliate campaign. Without strong attribution rules, brands lose their source of truth. There’s no way of knowing which partners are truly incremental and which are just hitching themselves to the wagon – which is an especially thorny issue for affiliate, which can carry an outdated reputation as coupon-based and cannibalistic.\n",
    "\n",
    "What makes attribution difficult is there’s no one-size fits all approach that’s guaranteed to get it right every time. No two customers are the same, and no two customer journeys are either. \n",
    "\n",
    "So how can brands simplify this process of assigning credit? Which methods are most effective? And how do the pros look at it? \n",
    "\n",
    "**In this blog, we’ll cover:**\n",
    "\n",
    "- Why attribution matters\n",
    "- How to select the right model\n",
    "- The value of different partner categories\n",
    "- A nuanced approach to commissions\n",
    "\n",
    "### Why attribution matters\n",
    "\n",
    "Attribution in affiliate marketing is about optimizing ROI, but more fundamentally, it’s about telling the truth. Or since attribution is an inherently imperfect measure, telling the most plausible story about customer journeys.\n",
    "\n",
    "Getting attribution right means gaining a better understanding of your customers, and why they’re purchasing your product. Understanding which parts of your messaging resonate most, where they make their decisions, and how. \n",
    "\n",
    "Attribution matters because you care about your customers and their relationship with your product. Brands need to put a premium on this knowledge and approach the data as seriously as anything else. \n",
    "\n",
    "### Selecting the attribution right model\n",
    "\n",
    "Marketers have an abundance of choice when it comes to selecting attribution models. According to a 2022 DigiDay report First-click and last-click attribution are the most popular attribution models for affiliate marketers at 44% and 36%, respectively. Meanwhile, multi-touch and multi-channel models lag at 25% and 18% respectively.\n",
    "\n",
    "While we often encourage our clients to leverage more complex models, we recognize the aphorism “All models wrong but some are useful.” Good attribution doesn’t hold one model holier than all others. While first-click models may be best for some partners, a multi-touch approach might be more appropriate for others. \n",
    "\n",
    "To manage these different models, we point clients towards companies like ShareASale, Impact, and CJ Affiliate that provide sophisticated attribution tools that help marketers track and analyze the customer journey across multiple channels. These platforms offer insights into which affiliates, and marketing efforts are most effective, bringing marketers closer than ever to the source of truth. \n",
    "\n",
    "### The value of different types of partners\n",
    "\n",
    "In affiliate, different types of partners represent different stages of the customer journey, and thus deserve unique attribution treatment. Some main categories of partners include Influencer, Content, Buy-now-pay-later, Card-linked offers, Shopping, Sub-Affiliates, Tech, Deals, Loyalty, and Coupon.\n",
    "\n",
    "Generally, content and influencer partners are the most desirable because they are top-of-funnel, meaning they’re introducing or re-introducing the brand to potential customers early in the consideration process. These partners merit the highest commission rates and contribute massively to affiliate’s incrementality.\n",
    "\n",
    "But that’s not to say lower-funnel partners have no value. There are two primary reasons brands choose to engage with lower-funnel partners:\n",
    "\n",
    "Closing the deal: If you're up against a competitor with a 2% cashback on their site, you’re going to bleed out conversions. \n",
    "Cost suppression: If we’re driving traffic to your site via a content partner that’s going to charge a 25% commission rate, and they instead convert through Rakuten, that has a huge impact on cost savings for your blended commission.\n",
    "Affiliate is a full-funnel channel. Your attribution strategy should understand these nuances and lend itself to a holistic approach.\n",
    "\n",
    "### A nuanced approach to commissions\n",
    "\n",
    "Not all partners are created equal. We see far too many established D2C consumer brands with great products coming to us paying flat commission rates across their entire list of partners. For us, it’s not just about whether the traffic a partner sends to your site converts, it’s about capturing that customer at the lowest cost possible. \n",
    "\n",
    "You can think of tailored commission rates as a spectrum. On the left is one flat commission rate across your entire partnership roster, and on the right is commissioning customized to each individual partner. Somewhere in the middle is assigning commission based on publisher type, KPI, or industry. \n",
    "\n",
    "Wherever you are right now on that spectrum, we strongly urge you to move further to the right. Individual partners should be compensated based on the value they provide. We use tools like our proprietary publisher scoring algorithm to pinpoint which partners are most valuable as well as years of practical industry experience. \n",
    "\n",
    "It makes no sense to pay an influencer who introduces your product to a new audience for the first time the same commission rate as a coupon partner like Honey, who swoops in at the end of a sale that was likely to close anyway.\n",
    "\n",
    "### Takeaways\n",
    "\n",
    "Mastering attribution in affiliate marketing is both an art and a science. It requires a deep understanding of your customers and a commitment to continuous optimization. By selecting the right attribution model, adopting a nuanced approach to commissions, and recognizing the value of lower-funnel partners, brands can create a more accurate and efficient strategy. Attribution isn't just about assigning credit; it's about gaining insights that drive better marketing decisions and ultimately, fostering stronger customer relationships. By embracing these principles, brands can navigate the complexities of attribution and turn it into a powerful tool for growth."
   ]
  },
  {
   "cell_type": "markdown",
   "metadata": {},
   "source": []
  }
 ],
 "metadata": {
  "language_info": {
   "name": "python"
  }
 },
 "nbformat": 4,
 "nbformat_minor": 2
}
