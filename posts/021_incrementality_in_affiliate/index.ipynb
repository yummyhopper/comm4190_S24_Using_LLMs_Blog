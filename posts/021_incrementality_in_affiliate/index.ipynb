{
 "cells": [
  {
   "cell_type": "raw",
   "metadata": {
    "vscode": {
     "languageId": "raw"
    }
   },
   "source": [
    "---\n",
    "title: \"Incrementality in Affiliate Marketing: Unlocking True Campaign Impact\"\n",
    "description: \"A Blog Post I Wrote For DMi Partners\"\n",
    "author: \"Max Orenstein\"\n",
    "date: \"7/30/2024\"\n",
    "categories:\n",
    "  - Marketing\n",
    "  - Incrementality\n",
    "  - Affiliate\n",
    "---"
   ]
  },
  {
   "cell_type": "markdown",
   "metadata": {},
   "source": [
    "# Incrementality in Affiliate Marketing: Unlocking True Campaign Impact\n",
    "\n",
    "![](DMi-Partners-Logo.webp)\n",
    "\n",
    "Incrementality is the cornerstone of any effective marketing campaign. According to 2022 data from eMarketer, the most valuable metric worldwide brands use when assessing campaign performance on retail media networks isn’t ROI or ROAS; it’s incremental sales.  Anecdotally, one of the top questions our clients want answered is how we’re contributing incrementally to their bottom line.\n",
    "\n",
    "From these conversations, we’ve realized that there’s a lot of misinformation about affiliate’s role in the customer journey. We hear over and over the concern that affiliates aren’t incremental and just eat into margin. This is a misguided perspective that keeps many brands from tapping into affiliate’s full potential.\n",
    "\n",
    "A well-run affiliate program is a true full-funnel channel that typically contributes around 13-20% of incremental sales for most brands we work with. If brands want this sort of affiliate program, it’s essential to delineate between different partners and obsessively measure their marginal impact on your bottom line. \n",
    "\n",
    "**In this blog, we’ll cover:**\n",
    "\n",
    "The importance of incrementality\n",
    "The best way to measure increment\n",
    "Why different partners require different approaches\n",
    "Why consistency beats perfectionism\n",
    "\n",
    "### The Importance of Incrementality in Marketing\n",
    "\n",
    "Incrementality measures the true impact of marketing efforts by distinguishing between conversions that would have happened organically and those directly driven by marketing activities.\n",
    "\n",
    "Understanding incrementality allows marketers to allocate their budgets more efficiently, focusing on strategies that genuinely increase sales and customer engagement.\n",
    "\n",
    "A strategy that doesn’t take a detail-oriented approach to incrementality will miss out on marginal gain and may even over-represent the success of a campaign.\n",
    "\n",
    "### Measuring Incremental Impact\n",
    "\n",
    "To accurately assess the incremental impact and determine if a partner is taking undue credit for sales, it’s essential to employ A/B lift testing. This method is pivotal in verifying that your marketing efforts are attracting genuine, new customers. The process involves:\n",
    "\n",
    "Dividing your audience into two groups — a test group and a control group — ensuring they are as identical as possible in composition.\n",
    "Implementing the marketing intervention exclusively with the test group.\n",
    "Analyzing the outcomes by comparing the performance metrics of both groups to identify any significant differences in behavior or sales.\n",
    "Without the marketing intervention, are your sales performing just as well? If so, that partner may not be contributing to the lift of your campaign. This is just one of many ways to measure incremental impact, but we find it to be the most generalizable and useful in most cases.\n",
    "\n",
    "### Different approaches for different partners\n",
    "\n",
    "In the past affiliate was considered primarily as a channel for partnering with bottom-funnel coupon partners like Honey. Within the past five years that’s changed.\n",
    "\n",
    "Brands today come to us because they want a full-funnel strategy. Whether that’s tens of thousands of micro-influencers or the evolution of their performance PR efforts. This paradigm shift towards a full-funnel approach has brought incrementality to the forefront of the conversation around affiliate marketing.\n",
    "\n",
    "Brands strategies now encompass a multitude of partners across the entire conversion funnel including Influencer, Content, Buy-now-pay-later, Card-linked offers, Shopping, Sub-Affiliates, Tech, Deals, Loyalty, and Coupon. \n",
    "\n",
    "Each of these partners offer different levels of incremental impact and occur at different parts of the consumer journey. The important part is distinguishing between them and understanding the pros and cons of each. \n",
    "\n",
    "### Don’t be perfect, be consistent\n",
    "\n",
    "Think of the last time you purchased a product. Can you remember the moment you made a decision? Most likely not. In 1885 a London Businessman Thomas Smith wrote a book called Successful Advertising in which he laid out this phenomenon elegantly:\n",
    "\n",
    "“The first time a man looks at an advertisement, he does not see it. The second time, he does not notice it. The third time, he is conscious of its existence. The fourth time, he faintly remembers having seen it before. The fifth time, he reads it. The sixth time, he turns up his nose at it. The seventh time, he reads it through and says, “Oh brother!” The eighth time, he says, “Here’s that confounded thing again!” The ninth time, he wonders if it amounts to anything. The tenth time, he asks his neighbor if he has tried it. The eleventh time, he wonders how the advertiser makes it pay. The twelfth time, he thinks it must be a good thing. The thirteenth time, he thinks perhaps it might be worth something. The fourteenth time, he remembers wanting such a thing a long time. The fifteenth time, he is tantalized because he cannot afford to buy it. The sixteenth time, he thinks he will buy it someday. The seventeenth time, he makes a memorandum to buy it. The eighteenth time, he swears at his poverty. The nineteenth time, he counts his money carefully. The twentieth time he sees the ad, he buys what it is offering.”\n",
    "\n",
    "The truth about marketing is that each touchpoint plays a critical role, and it’s the cumulative effect of these interactions that drives a customer to convert. If most consumers can’t even attribute their purchase accurately, no amount of data in the world can lead to a perfect attribution model.\n",
    "\n",
    "What’s more important is to find a strategy that works and stick to it. Brands often miss the forest for the trees by changing their model too frequently and thus losing any foundation of data that they can use to make comparisons across time periods and testing strategies.\n",
    "\n",
    "### Takeaways\n",
    "\n",
    "The landscape of affiliate marketing is evolving, and with it, the strategies for measuring and maximizing campaign impact. Incrementality is not just a buzzword; it’s the cornerstone of effective marketing, ensuring that every dollar spent is contributing to genuine growth. By embracing a full-funnel approach and recognizing the unique value of diverse partners, brands can navigate the affiliate channel with precision and purpose. A/B lift testing remains a critical tool in this journey, providing the clarity needed to invest in partnerships that truly matter. As we look to the future, the brands that will thrive are those that understand the multifaceted nature of consumer journeys and the importance of incremental gains."
   ]
  },
  {
   "cell_type": "markdown",
   "metadata": {},
   "source": []
  }
 ],
 "metadata": {
  "language_info": {
   "name": "python"
  }
 },
 "nbformat": 4,
 "nbformat_minor": 2
}
