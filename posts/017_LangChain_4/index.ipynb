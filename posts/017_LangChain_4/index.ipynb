{
 "cells": [
  {
   "cell_type": "raw",
   "id": "70f4047e-adf2-4050-bf39-c661c1e3d39e",
   "metadata": {},
   "source": [
    "---\n",
    "title: \"Automated Email Marketing Part #4: Additional Thoughts and more advanced perscriptions\"\n",
    "description: \"\"\n",
    "author: \"Max Orenstein\"\n",
    "date: \"4/20/2024\"\n",
    "categories:\n",
    "  - LangChain\n",
    "  - Marketing\n",
    "  - Klaviyo\n",
    "---"
   ]
  },
  {
   "cell_type": "markdown",
   "id": "44f5d742-ff1f-404e-b771-38cdd38ab85a",
   "metadata": {},
   "source": [
    "Personalization vs segmentation\n",
    "\n",
    "- Personalization: You can think of it as a spectrum. One message to all --> channel age --> channel interest --> channel interest activity --> ... --> One to one communication\n",
    "- Goal: match message with rigth customer\n",
    "- Most email marketing campaigns these days are conducted based on segmentation (Female, 30, Shoes, CLV>500) then A/B testing to find the most effective message. This is tested time consuming and resource intensive. There are many niches of customers that may not be best served by more general approaches (8 properties and 2 levels = 256 segments.)\n",
    "- Enter machine learning. We can estimate the lift of AI by comparing outcomes of the messages compared to a sample. Then you can rank the messages for ROI. Then you can use the most effective messages for the right demographics.\n",
    "- Potential outcome modelling: evaluating the consequences of potential outcomes. No target variable.\n",
    "- CATE: Conditional Average Treatment Effect: Evaluating difference in outcome of variance for a particular subgroup. Optimizing outputs.\n",
    "- Combining the efficiency of AI with the causal inference of ML\n",
    "- Customer personality modelling\n",
    "- Human in the loop?\n",
    "\n",
    "https://github.com/bookingcom/upliftml"
   ]
  },
  {
   "cell_type": "code",
   "execution_count": null,
   "id": "3eb3fc8e-badf-4dee-b9a0-0e2543e1fcd5",
   "metadata": {},
   "outputs": [],
   "source": []
  }
 ],
 "metadata": {
  "citation-manager": {
   "items": {}
  },
  "kernelspec": {
   "display_name": "Python 3.11 (COMM4190)",
   "language": "python",
   "name": "comm4190"
  },
  "language_info": {
   "codemirror_mode": {
    "name": "ipython",
    "version": 3
   },
   "file_extension": ".py",
   "mimetype": "text/x-python",
   "name": "python",
   "nbconvert_exporter": "python",
   "pygments_lexer": "ipython3",
   "version": "3.11.7"
  }
 },
 "nbformat": 4,
 "nbformat_minor": 5
}
